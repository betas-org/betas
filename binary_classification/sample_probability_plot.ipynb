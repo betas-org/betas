{
 "cells": [
  {
   "cell_type": "code",
   "execution_count": null,
   "metadata": {},
   "outputs": [],
   "source": [
    "%reset"
   ]
  },
  {
   "cell_type": "code",
   "execution_count": 1,
   "metadata": {},
   "outputs": [],
   "source": [
    "import pandas as pd\n",
    "import numpy as np\n",
    "import matplotlib.pyplot as plt\n",
    "import seaborn as sns\n",
    "import random\n",
    "import probability_plot as pp"
   ]
  },
  {
   "cell_type": "code",
   "execution_count": 2,
   "metadata": {},
   "outputs": [],
   "source": [
    "sns.set_style(\"white\")"
   ]
  },
  {
   "cell_type": "code",
   "execution_count": null,
   "metadata": {},
   "outputs": [],
   "source": [
    "scores = np.concatenate((np.random.uniform(low=0.9, high=1, size=150),\n",
    "                       np.random.uniform(low=0.8, high=0.9, size=75),\n",
    "                       np.random.uniform(low=0.7, high=0.8, size=50),\n",
    "                       np.random.uniform(low=0.5, high=0.7, size=25),\n",
    "                       np.random.uniform(low=0, high=0.1, size=150),\n",
    "                       np.random.uniform(low=0.1, high=0.2, size=75),\n",
    "                       np.random.uniform(low=0.2, high=0.3, size=50),\n",
    "                       np.random.uniform(low=0.3, high=0.5, size=25),\n",
    "                       np.random.uniform(low=0.5, high=1, size=30),\n",
    "                       np.random.uniform(low=0, high=0.5, size=30)))\n",
    "\n",
    "act_label = np.concatenate((np.ones(300), np.zeros(300), np.zeros(30), np.ones(30)))\n",
    "\n",
    "threshold = 0.5\n",
    "\n",
    "pred_label = (scores > 0.5) + 0\n",
    "\n",
    "cal_1 = pred_label + act_label\n",
    "cal_2 = pred_label - act_label\n",
    "\n",
    "df = pd.DataFrame({'scores': scores, 'actual_label': act_label, 'pred_label': pred_label, 'group': ''})\n",
    "\n",
    "df.at[cal_1==2, 'group'] = 'TP'\n",
    "df.at[cal_1==0, 'group'] = 'TN'\n",
    "df.at[cal_2==1, 'group'] = 'FP'\n",
    "df.at[cal_2==-1, 'group'] = 'FN'\n",
    "\n",
    "spread = 0.3\n",
    "\n",
    "df['position'] = df['actual_label'] + np.random.uniform(low=-spread, high=spread, size=len(df))"
   ]
  },
  {
   "cell_type": "code",
   "execution_count": 18,
   "metadata": {},
   "outputs": [
    {
     "data": {
      "text/html": [
       "<div>\n",
       "<style scoped>\n",
       "    .dataframe tbody tr th:only-of-type {\n",
       "        vertical-align: middle;\n",
       "    }\n",
       "\n",
       "    .dataframe tbody tr th {\n",
       "        vertical-align: top;\n",
       "    }\n",
       "\n",
       "    .dataframe thead th {\n",
       "        text-align: right;\n",
       "    }\n",
       "</style>\n",
       "<table border=\"1\" class=\"dataframe\">\n",
       "  <thead>\n",
       "    <tr style=\"text-align: right;\">\n",
       "      <th></th>\n",
       "      <th>scores</th>\n",
       "      <th>actual_label</th>\n",
       "      <th>pred_label</th>\n",
       "      <th>group</th>\n",
       "      <th>position</th>\n",
       "    </tr>\n",
       "  </thead>\n",
       "  <tbody>\n",
       "    <tr>\n",
       "      <th>0</th>\n",
       "      <td>0.941855</td>\n",
       "      <td>1.0</td>\n",
       "      <td>1</td>\n",
       "      <td>TP</td>\n",
       "      <td>0.817176</td>\n",
       "    </tr>\n",
       "    <tr>\n",
       "      <th>1</th>\n",
       "      <td>0.938017</td>\n",
       "      <td>1.0</td>\n",
       "      <td>1</td>\n",
       "      <td>TP</td>\n",
       "      <td>1.076909</td>\n",
       "    </tr>\n",
       "    <tr>\n",
       "      <th>2</th>\n",
       "      <td>0.977969</td>\n",
       "      <td>1.0</td>\n",
       "      <td>1</td>\n",
       "      <td>TP</td>\n",
       "      <td>1.198487</td>\n",
       "    </tr>\n",
       "    <tr>\n",
       "      <th>3</th>\n",
       "      <td>0.967275</td>\n",
       "      <td>1.0</td>\n",
       "      <td>1</td>\n",
       "      <td>TP</td>\n",
       "      <td>1.299960</td>\n",
       "    </tr>\n",
       "    <tr>\n",
       "      <th>4</th>\n",
       "      <td>0.907474</td>\n",
       "      <td>1.0</td>\n",
       "      <td>1</td>\n",
       "      <td>TP</td>\n",
       "      <td>0.968631</td>\n",
       "    </tr>\n",
       "  </tbody>\n",
       "</table>\n",
       "</div>"
      ],
      "text/plain": [
       "     scores  actual_label  pred_label group  position\n",
       "0  0.941855           1.0           1    TP  0.817176\n",
       "1  0.938017           1.0           1    TP  1.076909\n",
       "2  0.977969           1.0           1    TP  1.198487\n",
       "3  0.967275           1.0           1    TP  1.299960\n",
       "4  0.907474           1.0           1    TP  0.968631"
      ]
     },
     "execution_count": 18,
     "metadata": {},
     "output_type": "execute_result"
    }
   ],
   "source": [
    "df.head()"
   ]
  },
  {
   "cell_type": "code",
   "execution_count": null,
   "metadata": {},
   "outputs": [],
   "source": [
    "sns.scatterplot(x='position', y='scores', hue='group', s=20, data=df)\n",
    "plt.hlines(0.5, -0.3, 1.3, color='red')\n",
    "plt.legend(bbox_to_anchor=(1.05, 1), borderaxespad=0)\n",
    "plt.xticks([0,1])\n",
    "plt.xlabel('Actual label')\n",
    "plt.ylabel('Scores')\n",
    "plt.title('Scatterplot of Model Scores (Cutoff Point: 0.5)', fontsize=16)\n",
    "plt.show()"
   ]
  },
  {
   "cell_type": "code",
   "execution_count": 33,
   "metadata": {},
   "outputs": [
    {
     "name": "stderr",
     "output_type": "stream",
     "text": [
      "/anaconda3/lib/python3.7/site-packages/scipy/stats/stats.py:1713: FutureWarning:\n",
      "\n",
      "Using a non-tuple sequence for multidimensional indexing is deprecated; use `arr[tuple(seq)]` instead of `arr[seq]`. In the future this will be interpreted as an array index, `arr[np.array(seq)]`, which will result either in an error or a different result.\n",
      "\n"
     ]
    },
    {
     "data": {
      "image/png": "[encoded data removed]",
      "text/plain": [
       "<Figure size 432x288 with 4 Axes>"
      ]
     },
     "metadata": {},
     "output_type": "display_data"
    }
   ],
   "source": [
    "plt.subplot(221)\n",
    "sns.distplot(df.actual_label, kde=False)\n",
    "plt.xlabel('Actual Label')\n",
    "plt.xticks([0,1])\n",
    "plt.subplot(222)\n",
    "sns.distplot(df.scores, bins=30, kde=False)\n",
    "plt.xlabel('Scores')\n",
    "plt.xticks([0,0.25,0.5,0.75,1])\n",
    "plt.suptitle('Histograms of Actual Labels and Model Scores', fontsize=16)\n",
    "plt.subplots_adjust(hspace=0.5)\n",
    "plt.subplot(223)\n",
    "sns.distplot(df.scores[df.actual_label==0], bins=30, kde=False)\n",
    "plt.xlabel('Actual Label = 0')\n",
    "plt.subplot(224)\n",
    "sns.distplot(df.scores[df.actual_label==1], bins=30, kde=False)\n",
    "plt.xlabel('Actual Label = 1')\n",
    "plt.suptitle('Histograms of Model Scores by Actual Label', fontsize=16)\n",
    "plt.show()"
   ]
  },
  {
   "cell_type": "code",
   "execution_count": 30,
   "metadata": {},
   "outputs": [],
   "source": [
    "import probability_plot as pp"
   ]
  },
  {
   "cell_type": "code",
   "execution_count": 31,
   "metadata": {},
   "outputs": [],
   "source": [
    "x = pp.probability_plot(scores=df.scores, actual_label=df.actual_label, threshold=0.5, spread=0.4)"
   ]
  },
  {
   "cell_type": "code",
   "execution_count": null,
   "metadata": {},
   "outputs": [],
   "source": [
    "x.plot_jitter()"
   ]
  },
  {
   "cell_type": "code",
   "execution_count": null,
   "metadata": {},
   "outputs": [],
   "source": []
  },
  {
   "cell_type": "code",
   "execution_count": 6,
   "metadata": {},
   "outputs": [],
   "source": [
    "import plotly\n",
    "plotly.tools.set_credentials_file(username='liuy379', api_key='bRz3MQXDVZGWgv4zCgBk')"
   ]
  },
  {
   "cell_type": "code",
   "execution_count": 7,
   "metadata": {},
   "outputs": [],
   "source": [
    "import plotly.plotly as py\n",
    "import plotly.graph_objs as go"
   ]
  },
  {
   "cell_type": "code",
   "execution_count": 19,
   "metadata": {},
   "outputs": [
    {
     "data": {
      "text/html": [
       "<div>\n",
       "<style scoped>\n",
       "    .dataframe tbody tr th:only-of-type {\n",
       "        vertical-align: middle;\n",
       "    }\n",
       "\n",
       "    .dataframe tbody tr th {\n",
       "        vertical-align: top;\n",
       "    }\n",
       "\n",
       "    .dataframe thead th {\n",
       "        text-align: right;\n",
       "    }\n",
       "</style>\n",
       "<table border=\"1\" class=\"dataframe\">\n",
       "  <thead>\n",
       "    <tr style=\"text-align: right;\">\n",
       "      <th></th>\n",
       "      <th>scores</th>\n",
       "      <th>actual_label</th>\n",
       "      <th>pred_label</th>\n",
       "      <th>group</th>\n",
       "      <th>position</th>\n",
       "    </tr>\n",
       "  </thead>\n",
       "  <tbody>\n",
       "    <tr>\n",
       "      <th>0</th>\n",
       "      <td>0.941855</td>\n",
       "      <td>1.0</td>\n",
       "      <td>1</td>\n",
       "      <td>TP</td>\n",
       "      <td>0.817176</td>\n",
       "    </tr>\n",
       "    <tr>\n",
       "      <th>1</th>\n",
       "      <td>0.938017</td>\n",
       "      <td>1.0</td>\n",
       "      <td>1</td>\n",
       "      <td>TP</td>\n",
       "      <td>1.076909</td>\n",
       "    </tr>\n",
       "    <tr>\n",
       "      <th>2</th>\n",
       "      <td>0.977969</td>\n",
       "      <td>1.0</td>\n",
       "      <td>1</td>\n",
       "      <td>TP</td>\n",
       "      <td>1.198487</td>\n",
       "    </tr>\n",
       "    <tr>\n",
       "      <th>3</th>\n",
       "      <td>0.967275</td>\n",
       "      <td>1.0</td>\n",
       "      <td>1</td>\n",
       "      <td>TP</td>\n",
       "      <td>1.299960</td>\n",
       "    </tr>\n",
       "    <tr>\n",
       "      <th>4</th>\n",
       "      <td>0.907474</td>\n",
       "      <td>1.0</td>\n",
       "      <td>1</td>\n",
       "      <td>TP</td>\n",
       "      <td>0.968631</td>\n",
       "    </tr>\n",
       "  </tbody>\n",
       "</table>\n",
       "</div>"
      ],
      "text/plain": [
       "     scores  actual_label  pred_label group  position\n",
       "0  0.941855           1.0           1    TP  0.817176\n",
       "1  0.938017           1.0           1    TP  1.076909\n",
       "2  0.977969           1.0           1    TP  1.198487\n",
       "3  0.967275           1.0           1    TP  1.299960\n",
       "4  0.907474           1.0           1    TP  0.968631"
      ]
     },
     "execution_count": 19,
     "metadata": {},
     "output_type": "execute_result"
    }
   ],
   "source": [
    "df.head()"
   ]
  },
  {
   "cell_type": "code",
   "execution_count": 34,
   "metadata": {
    "scrolled": true
   },
   "outputs": [
    {
     "name": "stderr",
     "output_type": "stream",
     "text": [
      "/anaconda3/lib/python3.7/site-packages/IPython/core/display.py:689: UserWarning:\n",
      "\n",
      "Consider using IPython.display.IFrame instead\n",
      "\n"
     ]
    },
    {
     "data": {
      "text/html": [
       "<iframe id=\"igraph\" scrolling=\"no\" style=\"border:none;\" seamless=\"seamless\" src=\"https://plot.ly/~liuy379/6.embed\" height=\"525px\" width=\"100%\"></iframe>"
      ],
      "text/plain": [
       "<chart_studio.tools.PlotlyDisplay object>"
      ]
     },
     "execution_count": 34,
     "metadata": {},
     "output_type": "execute_result"
    }
   ],
   "source": [
    "trace1 = go.Histogram(\n",
    "    x=df.scores,\n",
    "    histnorm='percent',\n",
    "    xbins=dict(\n",
    "        size=0.01\n",
    "    ),\n",
    "    marker=dict(\n",
    "        color='lightblue',\n",
    "    ),\n",
    "    opacity=0.75\n",
    ")\n",
    "layout = go.Layout(\n",
    "    title='Sampled Results',\n",
    "    xaxis=dict(\n",
    "        title='Value'\n",
    "    ),\n",
    "    yaxis=dict(\n",
    "        title='Count'\n",
    "    ),\n",
    "    bargap=0.1,\n",
    ")\n",
    "data = [trace1]\n",
    "fig = go.Figure(data=data, layout=layout)\n",
    "py.iplot(fig)"
   ]
  },
  {
   "cell_type": "code",
   "execution_count": null,
   "metadata": {},
   "outputs": [],
   "source": []
  },
  {
   "cell_type": "code",
   "execution_count": null,
   "metadata": {},
   "outputs": [],
   "source": []
  },
  {
   "cell_type": "code",
   "execution_count": null,
   "metadata": {},
   "outputs": [],
   "source": []
  },
  {
   "cell_type": "code",
   "execution_count": null,
   "metadata": {},
   "outputs": [],
   "source": []
  },
  {
   "cell_type": "code",
   "execution_count": null,
   "metadata": {},
   "outputs": [],
   "source": []
  },
  {
   "cell_type": "code",
   "execution_count": null,
   "metadata": {},
   "outputs": [],
   "source": []
  },
  {
   "cell_type": "code",
   "execution_count": null,
   "metadata": {},
   "outputs": [],
   "source": []
  }
 ],
 "metadata": {
  "kernelspec": {
   "display_name": "Python 3",
   "language": "python",
   "name": "python3"
  },
  "language_info": {
   "codemirror_mode": {
    "name": "ipython",
    "version": 3
   },
   "file_extension": ".py",
   "mimetype": "text/x-python",
   "name": "python",
   "nbconvert_exporter": "python",
   "pygments_lexer": "ipython3",
   "version": "3.7.1"
  }
 },
 "nbformat": 4,
 "nbformat_minor": 2
}
